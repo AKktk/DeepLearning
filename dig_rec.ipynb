{
 "cells": [
  {
   "cell_type": "code",
   "execution_count": 4,
   "metadata": {},
   "outputs": [],
   "source": [
    "import keras\n",
    "from keras.datasets import mnist\n"
   ]
  },
  {
   "cell_type": "code",
   "execution_count": 3,
   "metadata": {},
   "outputs": [],
   "source": [
    "from keras.models import Sequential\n",
    "from keras.layers import Dense, Dropout, Flatten\n",
    "from keras.layers import Conv2D, MaxPooling2D\n",
    "from keras import backend as K"
   ]
  },
  {
   "cell_type": "code",
   "execution_count": 5,
   "metadata": {},
   "outputs": [
    {
     "name": "stdout",
     "output_type": "stream",
     "text": [
      "(60000, 28, 28) (60000,)\n"
     ]
    }
   ],
   "source": [
    "# the data, split between train and test sets\n",
    "(x_train, y_train), (x_test, y_test) = mnist.load_data()\n",
    "print(x_train.shape, y_train.shape)"
   ]
  },
  {
   "cell_type": "code",
   "execution_count": 6,
   "metadata": {},
   "outputs": [],
   "source": [
    "x_train = x_train.reshape(x_train.shape[0], 28, 28, 1)\n",
    "x_test = x_test.reshape(x_test.shape[0], 28, 28, 1)\n",
    "input_shape = (28, 28, 1)"
   ]
  },
  {
   "cell_type": "code",
   "execution_count": 7,
   "metadata": {},
   "outputs": [
    {
     "name": "stdout",
     "output_type": "stream",
     "text": [
      "x_train shape: (60000, 28, 28, 1)\n",
      "60000 train samples\n",
      "10000 test samples\n"
     ]
    }
   ],
   "source": [
    "# convert class vectors to binary class matrices\n",
    "from tensorflow.keras.utils import to_categorical\n",
    "\n",
    "num_classes = 10 # 10 digits\n",
    "\n",
    "y_train = to_categorical(y_train, num_classes)\n",
    "y_test = to_categorical(y_test, num_classes)\n",
    "\n",
    "x_train = x_train.astype('float32')\n",
    "x_test = x_test.astype('float32')\n",
    "x_train /= 255\n",
    "x_test /= 255\n",
    "print('x_train shape:', x_train.shape)\n",
    "print(x_train.shape[0], 'train samples')\n",
    "print(x_test.shape[0], 'test samples')"
   ]
  },
  {
   "cell_type": "code",
   "execution_count": 8,
   "metadata": {},
   "outputs": [],
   "source": [
    "batch_size = 128\n",
    "epochs = 10\n",
    "model = Sequential()\n",
    "model.add(Conv2D(32, kernel_size=(3, 3),activation='relu',input_shape=input_shape))\n",
    "model.add(Conv2D(64, (3, 3), activation='relu'))\n",
    "model.add(MaxPooling2D(pool_size=(2, 2)))\n",
    "model.add(Dropout(0.25))\n",
    "model.add(Flatten())\n",
    "model.add(Dense(256, activation='relu'))\n",
    "model.add(Dropout(0.5))\n",
    "model.add(Dense(num_classes, activation='softmax'))\n",
    "model.compile(loss=keras.losses.categorical_crossentropy,optimizer=keras.optimizers.Adadelta(),metrics=['accuracy'])"
   ]
  },
  {
   "cell_type": "code",
   "execution_count": 9,
   "metadata": {},
   "outputs": [
    {
     "name": "stdout",
     "output_type": "stream",
     "text": [
      "Epoch 1/10\n",
      "469/469 [==============================] - 66s 138ms/step - loss: 2.2726 - accuracy: 0.1702 - val_loss: 2.2312 - val_accuracy: 0.4003\n",
      "Epoch 2/10\n",
      "469/469 [==============================] - 64s 137ms/step - loss: 2.2051 - accuracy: 0.3356 - val_loss: 2.1470 - val_accuracy: 0.6192\n",
      "Epoch 3/10\n",
      "469/469 [==============================] - 64s 135ms/step - loss: 2.1142 - accuracy: 0.4721 - val_loss: 2.0265 - val_accuracy: 0.7230\n",
      "Epoch 4/10\n",
      "469/469 [==============================] - 62s 133ms/step - loss: 1.9785 - accuracy: 0.5628 - val_loss: 1.8475 - val_accuracy: 0.7676\n",
      "Epoch 5/10\n",
      "469/469 [==============================] - 62s 132ms/step - loss: 1.7883 - accuracy: 0.6162 - val_loss: 1.6011 - val_accuracy: 0.7898\n",
      "Epoch 6/10\n",
      "469/469 [==============================] - 65s 138ms/step - loss: 1.5538 - accuracy: 0.6507 - val_loss: 1.3240 - val_accuracy: 0.8031\n",
      "Epoch 7/10\n",
      "469/469 [==============================] - 64s 136ms/step - loss: 1.3192 - accuracy: 0.6811 - val_loss: 1.0762 - val_accuracy: 0.8171\n",
      "Epoch 8/10\n",
      "469/469 [==============================] - 62s 132ms/step - loss: 1.1324 - accuracy: 0.7031 - val_loss: 0.8903 - val_accuracy: 0.8297\n",
      "Epoch 9/10\n",
      "469/469 [==============================] - 62s 132ms/step - loss: 0.9917 - accuracy: 0.7266 - val_loss: 0.7609 - val_accuracy: 0.8398\n",
      "Epoch 10/10\n",
      "469/469 [==============================] - 62s 132ms/step - loss: 0.8960 - accuracy: 0.7420 - val_loss: 0.6714 - val_accuracy: 0.8489\n",
      "The model has successfully trained\n"
     ]
    }
   ],
   "source": [
    "# Train the model\n",
    "hist = model.fit(x_train, y_train,batch_size=batch_size,epochs=epochs,verbose=1,validation_data=(x_test, y_test))\n",
    "print(\"The model has successfully trained\")"
   ]
  },
  {
   "cell_type": "code",
   "execution_count": 10,
   "metadata": {},
   "outputs": [
    {
     "name": "stdout",
     "output_type": "stream",
     "text": [
      "Saving the model as mnist.h5\n"
     ]
    }
   ],
   "source": [
    "model.save('mnist.h5')\n",
    "print(\"Saving the model as mnist.h5\")"
   ]
  },
  {
   "cell_type": "code",
   "execution_count": 11,
   "metadata": {},
   "outputs": [
    {
     "name": "stdout",
     "output_type": "stream",
     "text": [
      "Test loss: 0.6714282035827637\n",
      "Test accuracy: 0.8489000201225281\n"
     ]
    }
   ],
   "source": [
    "score = model.evaluate(x_test, y_test, verbose=0)\n",
    "print('Test loss:', score[0])\n",
    "print('Test accuracy:', score[1])"
   ]
  },
  {
   "cell_type": "code",
   "execution_count": null,
   "metadata": {},
   "outputs": [],
   "source": [
    "# To load the model:\n",
    "from keras.models import load_model\n",
    "model = load_model('mnist.h5')"
   ]
  }
 ],
 "metadata": {
  "kernelspec": {
   "display_name": "Python 3",
   "language": "python",
   "name": "python3"
  },
  "language_info": {
   "codemirror_mode": {
    "name": "ipython",
    "version": 3
   },
   "file_extension": ".py",
   "mimetype": "text/x-python",
   "name": "python",
   "nbconvert_exporter": "python",
   "pygments_lexer": "ipython3",
   "version": "3.10.0"
  }
 },
 "nbformat": 4,
 "nbformat_minor": 2
}
